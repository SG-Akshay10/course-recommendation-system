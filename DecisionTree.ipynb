{
 "cells": [
  {
   "cell_type": "code",
   "execution_count": 212,
   "id": "622b017a",
   "metadata": {},
   "outputs": [],
   "source": [
    "import pandas as pd\n",
    "import numpy as np\n",
    "import seaborn as sns\n",
    "import sklearn.preprocessing\n",
    "from sklearn import preprocessing\n",
    "import matplotlib.pyplot as plt\n",
    "from sklearn.preprocessing import Normalizer\n",
    "from sklearn.preprocessing import LabelEncoder, OneHotEncoder\n",
    "from sklearn.preprocessing import Normalizer\n",
    "from sklearn.model_selection import train_test_split\n",
    "from sklearn import tree\n",
    "from sklearn import preprocessing \n",
    "from sklearn.metrics import accuracy_score\n",
    "import ast  \n",
    "from sklearn import metrics\n",
    "import re\n",
    "from sklearn.preprocessing import MultiLabelBinarizer\n",
    "from collections import Counter"
   ]
  },
  {
   "cell_type": "code",
   "execution_count": 213,
   "id": "6516c459",
   "metadata": {},
   "outputs": [],
   "source": [
    "file = pd.read_excel(r\"FinalData.xlsx\")"
   ]
  },
  {
   "cell_type": "code",
   "execution_count": 214,
   "id": "8789231e",
   "metadata": {},
   "outputs": [],
   "source": [
    "file.drop(columns='What is your name?', inplace=True)\n",
    "file.drop(columns='What is your gender?', inplace=True)\n",
    "file.drop(columns='What was your course in UG?', inplace=True)\n",
    "file.drop(columns='What was the average CGPA or Percentage obtained in under graduation?', inplace=True)\n",
    "#file.drop(columns='Have you done masters after undergraduation? If yes, mention your field of masters.(Eg, Masters in Mathematics)', inplace=True)"
   ]
  },
  {
   "cell_type": "code",
   "execution_count": 215,
   "id": "4e1fea23",
   "metadata": {},
   "outputs": [],
   "source": [
    "file.rename(columns = {file.columns[0] :'UG_Course',\n",
    "                       file.columns[1] :'Interest',\n",
    "                       file.columns[2] :'Skills',\n",
    "                       file.columns[3] :'Certification',\n",
    "                       file.columns[4] :'Certificate_name',\n",
    "                       file.columns[5] :'Working',\n",
    "                       file.columns[6] :'JobTitle',\n",
    "                       file.columns[7] :'Masters'\n",
    "                      },inplace = True)"
   ]
  },
  {
   "cell_type": "code",
   "execution_count": 216,
   "id": "717dcc88",
   "metadata": {},
   "outputs": [],
   "source": [
    "file = file[file['Skills'].notna()]\n",
    "file = file[file['Interest'].notna()]\n",
    "file = file[file['Certificate_name'].notna()]\n",
    "file = file[file['UG_Course'].notna()]"
   ]
  },
  {
   "cell_type": "code",
   "execution_count": 217,
   "id": "76b665b3",
   "metadata": {},
   "outputs": [],
   "source": [
    "df = file"
   ]
  },
  {
   "cell_type": "code",
   "execution_count": 218,
   "id": "b27154b9",
   "metadata": {},
   "outputs": [],
   "source": [
    "le = LabelEncoder()"
   ]
  },
  {
   "cell_type": "code",
   "execution_count": 219,
   "id": "bf8ad6c1",
   "metadata": {},
   "outputs": [
    {
     "data": {
      "text/plain": [
       "LabelEncoder()"
      ]
     },
     "execution_count": 219,
     "metadata": {},
     "output_type": "execute_result"
    }
   ],
   "source": [
    "label_encoder = preprocessing.LabelEncoder()\n",
    "LabelEncoder()"
   ]
  },
  {
   "cell_type": "code",
   "execution_count": 220,
   "id": "ff059b3c",
   "metadata": {},
   "outputs": [],
   "source": [
    "def list_labelencode(column,file):\n",
    "    column1 = list(file[column].explode().unique())\n",
    "    label_encoder.fit(column1)\n",
    "    file[column + '_encoded'] = file[column].apply(lambda x:label_encoder.transform(x))\n",
    "    file[column + '_encoded']\n",
    "    \n",
    "def labelencoding(column,file):\n",
    "    file[column + '_encoded'] = le.fit_transform(file[column])\n",
    "    file[column + '_encoded'] "
   ]
  },
  {
   "cell_type": "code",
   "execution_count": 221,
   "id": "ee7ec0c9",
   "metadata": {},
   "outputs": [],
   "source": [
    "def recommend(d):\n",
    "    global df\n",
    "    \n",
    "    d = pd.DataFrame([d])\n",
    "    df = pd.concat([df, d], axis=0, ignore_index=True)\n",
    "    \n",
    "    df_last=df.iloc[[-1],]\n",
    "    df['factors'] = df[['Interest','Skills']].apply(\"-\".join, axis=1)\n",
    "    \n",
    "    i=0\n",
    "    for i in range (len(df)):\n",
    "        m_to_b = df.Certification[i]\n",
    "        certi = df.Certificate_name[i]\n",
    "        if m_to_b.startswith('Y') ==True:\n",
    "            df.factors[i] = df.factors[i] + '-' + certi       \n",
    "        i=i+1  \n",
    "        \n",
    "    i=0\n",
    "    for i in range (len(df)):\n",
    "        m_to_b = df.Working[i]\n",
    "        job = df.JobTitle[i]\n",
    "        if m_to_b.startswith('Y') ==True:\n",
    "            df.factors[i] = df.factors[i] + '-' + job      \n",
    "        i=i+1\n",
    "        \n",
    "    i=0\n",
    "    for i in range (len(df)):\n",
    "        m_to_b = df.Masters[i]\n",
    "        if m_to_b.startswith('N') ==True:\n",
    "            continue\n",
    "        else:\n",
    "            df.factors[i] = df.factors[i] + '-' + m_to_b     \n",
    "        i=i+1  \n",
    "        \n",
    "    df_f = df.factors\n",
    "    df_f.replace(\"[^a-zA-Z]\",\" \",regex=True, inplace=True)\n",
    "    df_f = df_f.to_frame()\n",
    "    df_f.columns=['factors']\n",
    "    \n",
    "    df_f['factors'] = df_f['factors'].str.lower()\n",
    "    df_f['factors'] = df_f['factors'].replace(r'\\s+', ' ', regex=True)\n",
    "    df_f['factors'] = df_f['factors'].str.split(' ')\n",
    "    \n",
    "    df['UG_Course'].replace(\" \",\"\",regex=True, inplace=True)\n",
    "    \n",
    "    df_new = pd.merge(df, df_f, left_index=True, right_index=True)\n",
    "    df_new.drop(df_new.columns[[1,2,3,4,5,6,7,8]], axis=1, inplace=True)\n",
    "    df_new.rename(columns = {df_new.columns[1] :'factors'},inplace = True)\n",
    "    \n",
    "    labelencoding(\"UG_Course\",df_new)\n",
    "    list_labelencode(\"factors\",df_new)\n",
    "    df_new.drop(df_new.columns[[0,1]], axis=1, inplace=True)\n",
    "    df_new.rename(columns = {df_new.columns[0] :'UG_Course',df_new.columns[1] :'factors'},inplace = True)\n",
    "    \n",
    "    df_new.replace(\"[^a-zA-Z0-9]\",\" \",regex=True, inplace=True)\n",
    "    df_new['UG_Course'].replace(\" \",\"\",regex=True, inplace=True)\n",
    "    \n",
    "    df_d = pd.get_dummies(df_new['factors'].explode()).sum(level=0)\n",
    "    \n",
    "    df_new = pd.merge(df_new, df_d, left_index=True, right_index=True)\n",
    "    df_new.drop(df_new.columns[[1]], axis=1, inplace=True)\n",
    "    \n",
    "    x = df_new.iloc[:,1:]\n",
    "    y = df_new.iloc[:,[0]]\n",
    "    \n",
    "    x_train, x_test, y_train, y_test = train_test_split(x, y, test_size=0.3, random_state=1)\n",
    "    \n",
    "    clf = tree.DecisionTreeClassifier()\n",
    "    clf = clf.fit(x_train,y_train)\n",
    "    x_pred = clf.predict(x_test)\n",
    "    x_pred = list(x_pred)\n",
    "    out = Counter(x_pred)\n",
    "\n",
    "    output = sorted(out.items(), key=lambda item: item[1],reverse=True)\n",
    "    output = output[:5]\n",
    "    output = [item[0] for item in output]\n",
    "    \n",
    "    def out(output,col,file):\n",
    "        le.fit(file[col])\n",
    "        return le.inverse_transform(output)\n",
    "\n",
    "    for i in out(output,'UG_Course',file):\n",
    "        print(i)"
   ]
  },
  {
   "cell_type": "code",
   "execution_count": 222,
   "id": "00a053a2",
   "metadata": {
    "scrolled": true
   },
   "outputs": [
    {
     "name": "stdout",
     "output_type": "stream",
     "text": [
      "Enter your details:  \n",
      "\n",
      "Enter your name:  AKshay\n",
      "Enter your gender:  Male\n",
      "Enter the interests:  C,C++\n",
      "Enter the skills :  C,C++\n",
      "Did you do any certification courses additionally? :  No\n",
      "Are you currently working or have you been emplyed before ? :  No\n",
      "Are you currently pursuing masters or have you persued higher education before :  No\n"
     ]
    }
   ],
   "source": [
    "d={}\n",
    "print(\"Enter your details:  \\n\")\n",
    "nm = input(\"Enter your name:  \")\n",
    "gen = input(\"Enter your gender:  \")\n",
    "d['UG_Course']=''\n",
    "d['Interest']=input(\"Enter the interests:  \")\n",
    "d['Skills']=input(\"Enter the skills :  \")\n",
    "d['Certification']=input(\"Did you do any certification courses additionally? :  \")\n",
    "if (d['Certification']=='yes' or d['Certification']=='Yes'):\n",
    "    d['Certificate_name']=input(\"If yes, please specify your certificate course title:  \")\n",
    "d['Working']=input(\"Are you currently working or have you been emplyed before ? :  \")\n",
    "if (d['Working']=='yes' or d['Working']=='Yes'):\n",
    "    d['JobTitle']=input(\" If yes, please enter Job Title :  \")\n",
    "d['Masters']=input(\"Are you currently pursuing masters or have you persued higher education before :  \")\n"
   ]
  },
  {
   "cell_type": "code",
   "execution_count": 223,
   "id": "8fe3e15f",
   "metadata": {},
   "outputs": [
    {
     "name": "stderr",
     "output_type": "stream",
     "text": [
      "C:\\Users\\sgaks\\anaconda3\\lib\\site-packages\\pandas\\core\\algorithms.py:798: FutureWarning: In a future version, the Index constructor will not infer numeric dtypes when passed object-dtype sequences (matching Series behavior)\n",
      "  uniques = Index(uniques)\n",
      "C:\\Users\\sgaks\\AppData\\Local\\Temp\\ipykernel_5016\\348010448.py:58: FutureWarning: Using the level keyword in DataFrame and Series aggregations is deprecated and will be removed in a future version. Use groupby instead. df.sum(level=1) should use df.groupby(level=1).sum().\n",
      "  df_d = pd.get_dummies(df_new['factors'].explode()).sum(level=0)\n"
     ]
    },
    {
     "name": "stdout",
     "output_type": "stream",
     "text": [
      "Commerce \n",
      "Interior design\n",
      "Dental surgeon \n",
      "AutoCAD\n",
      "Education\n"
     ]
    }
   ],
   "source": [
    "a = recommend(d)"
   ]
  }
 ],
 "metadata": {
  "kernelspec": {
   "display_name": "Python 3 (ipykernel)",
   "language": "python",
   "name": "python3"
  },
  "language_info": {
   "codemirror_mode": {
    "name": "ipython",
    "version": 3
   },
   "file_extension": ".py",
   "mimetype": "text/x-python",
   "name": "python",
   "nbconvert_exporter": "python",
   "pygments_lexer": "ipython3",
   "version": "3.9.13"
  }
 },
 "nbformat": 4,
 "nbformat_minor": 5
}
