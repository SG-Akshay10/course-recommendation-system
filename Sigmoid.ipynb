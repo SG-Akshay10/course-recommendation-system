{
 "cells": [
  {
   "cell_type": "code",
   "execution_count": null,
   "id": "578d5a7d",
   "metadata": {},
   "outputs": [],
   "source": [
    "import pandas as pd\n",
    "import numpy as np\n",
    "from sklearn.feature_extraction.text import TfidfVectorizer\n",
    "from sklearn.metrics.pairwise import sigmoid_kernel\n",
    "import seaborn as sns"
   ]
  },
  {
   "cell_type": "code",
   "execution_count": null,
   "id": "392cc0fa",
   "metadata": {},
   "outputs": [],
   "source": [
    "file = pd.read_excel(r\"FinalData.xlsx\")"
   ]
  },
  {
   "cell_type": "code",
   "execution_count": null,
   "id": "7fd5c6d6",
   "metadata": {},
   "outputs": [],
   "source": [
    "file.drop(columns='What is your name?', inplace=True)\n",
    "file.drop(columns='What is your gender?', inplace=True)\n",
    "file.drop(columns='What was your course in UG?', inplace=True)\n",
    "file.drop(columns='What was the average CGPA or Percentage obtained in under graduation?', inplace=True)\n",
    "#file.drop(columns='Have you done masters after undergraduation? If yes, mention your field of masters.(Eg, Masters in Mathematics)', inplace=True)"
   ]
  },
  {
   "cell_type": "code",
   "execution_count": null,
   "id": "79bb0a37",
   "metadata": {},
   "outputs": [],
   "source": [
    "file.rename(columns = {file.columns[0] :'UG_Course',\n",
    "                       file.columns[1] :'Interest',\n",
    "                       file.columns[2] :'Skills',\n",
    "                       file.columns[3] :'Certification',\n",
    "                       file.columns[4] :'Certificate_name',\n",
    "                       file.columns[5] :'Working',\n",
    "                       file.columns[6] :'JobTitle',\n",
    "                       file.columns[7] :'Masters'\n",
    "                      },inplace = True)"
   ]
  },
  {
   "cell_type": "code",
   "execution_count": null,
   "id": "0d5f21ae",
   "metadata": {},
   "outputs": [],
   "source": [
    "file[\"Skills\"]=file[\"Skills\"].astype(str)"
   ]
  },
  {
   "cell_type": "code",
   "execution_count": null,
   "id": "a7276a7b",
   "metadata": {},
   "outputs": [],
   "source": [
    "file = file[file['Skills'].notna()]\n",
    "file = file[file['Interest'].notna()]\n",
    "file = file[file['Certificate_name'].notna()]"
   ]
  },
  {
   "cell_type": "code",
   "execution_count": null,
   "id": "e8fe4177",
   "metadata": {},
   "outputs": [],
   "source": [
    "file.info()"
   ]
  },
  {
   "cell_type": "code",
   "execution_count": null,
   "id": "843a7c00",
   "metadata": {},
   "outputs": [],
   "source": [
    "df = file"
   ]
  },
  {
   "cell_type": "code",
   "execution_count": null,
   "id": "6ed46a49",
   "metadata": {},
   "outputs": [],
   "source": [
    "def recommend(d):\n",
    "    global df\n",
    "    \n",
    "    d = pd.DataFrame([d])\n",
    "    df = pd.concat([df, d], axis=0, ignore_index=True)\n",
    "    \n",
    "    df_last=df.iloc[[-1],]\n",
    "    \n",
    "    #df['Skills'] = df['Skills'].str.split(',')\n",
    "    #df['Interest'] = df['Interest'].str.split(',')\n",
    "    #df['Certificate_name'] = df['Certificate_name'].str.split(',')\n",
    "    \n",
    "    df['factors'] = df[['Interest','Skills']].apply(\"-\".join, axis=1)\n",
    "    \n",
    "    i=0\n",
    "    for i in range (len(df)):\n",
    "        m_to_b = df.Certification[i]\n",
    "        certi = df.Certificate_name[i]\n",
    "        if m_to_b.startswith('Y') ==True:\n",
    "            df.factors[i] = df.factors[i] + '-' + certi       \n",
    "        i=i+1\n",
    "        \n",
    "    i=0\n",
    "    for i in range (len(df)):\n",
    "        m_to_b = df.Working[i]\n",
    "        job = df.JobTitle[i]\n",
    "        if m_to_b.startswith('Y') ==True:\n",
    "            df.factors[i] = df.factors[i] + '-' + job      \n",
    "        i=i+1 \n",
    "    \n",
    "    i=0\n",
    "    for i in range (len(df)):\n",
    "        m_to_b = df.Masters[i]\n",
    "        if m_to_b.startswith('N') ==True:\n",
    "            continue\n",
    "        else:\n",
    "            df.factors[i] = df.factors[i] + '-' + m_to_b     \n",
    "        i=i+1\n",
    "        \n",
    "    df_f = df.factors\n",
    "    df_f.replace(\"[^a-zA-Z]\",\" \",regex=True, inplace=True)\n",
    "    df_f = df_f.to_frame()\n",
    "    df_f.columns=['factors']\n",
    "    \n",
    "    df_f[\"factors\"].isnull().sum() \n",
    "    tfidf = TfidfVectorizer(stop_words = \"english\")\n",
    "    tfidf_matrix = tfidf.fit_transform(df_f[\"factors\"])\n",
    "    tfidf_matrix_df=pd.DataFrame.sparse.from_spmatrix(tfidf_matrix)\n",
    "    df_final=tfidf_matrix_df\n",
    "    \n",
    "    y = df_final.iloc[:-2,:]\n",
    "    \n",
    "    sig_sim_matrix=sigmoid_kernel(df_final.iloc[[-1],:],y)\n",
    "    df_sig_sim_matrix = pd.DataFrame(sig_sim_matrix)\n",
    "    sig_scores = list(enumerate(sig_sim_matrix[0]))\n",
    "    sig_scores = sorted(sig_scores, key=lambda x:x[1], reverse = True)\n",
    "    s_idx  =  [i[0] for i in sig_scores]\n",
    "    s_scores =  [i[1] for i in sig_scores]\n",
    "    \n",
    "    df_similar = pd.DataFrame(columns=[\"UG_Course\", \"Score\"])\n",
    "    df_similar[\"UG_Course\"] = df.loc[s_idx, \"UG_Course\"]\n",
    "    df_similar[\"Score\"] = s_scores\n",
    "    df_similar=df_similar.loc[(df_similar.UG_Course !='')]\n",
    "    df_similar=df_similar.drop_duplicates(subset='UG_Course', keep=\"first\")\n",
    "    \n",
    "    df_similar_N = df_similar.iloc[0:4+1,:]\n",
    "    df_similar_N.reset_index(inplace = True)\n",
    "    ca = df_similar_N['UG_Course'].values.tolist()\n",
    "    \n",
    "    return ca"
   ]
  },
  {
   "cell_type": "code",
   "execution_count": null,
   "id": "7f8f24b2",
   "metadata": {
    "scrolled": true
   },
   "outputs": [],
   "source": [
    "d={}\n",
    "print(\"Enter your details:  \\n\")\n",
    "nm = input(\"Enter your name:  \")\n",
    "gen = input(\"Enter your gender:  \")\n",
    "d['UG_Course']=''\n",
    "d['Interest']=input(\"Enter the interests:  \")\n",
    "d['Skills']=input(\"Enter the skills :  \")\n",
    "d['Certification']=input(\"Did you do any certification courses additionally? :  \")\n",
    "if (d['Certification']=='yes' or d['Certification']=='Yes'):\n",
    "    d['Certificate_name']=input(\"If yes, please specify your certificate course title:  \")\n",
    "d['Working']=input(\"Are you currently working or have you been emplyed before?e :  \")\n",
    "if (d['Working']=='yes' or d['Working']=='Yes'):\n",
    "    d['JobTitle']=input(\" If yes, please enter Job Title :  \")\n",
    "d['Masters']=input(\"Are you currently pursuing masters or have you persued higher education before :  \")"
   ]
  },
  {
   "cell_type": "code",
   "execution_count": null,
   "id": "44522c9c",
   "metadata": {},
   "outputs": [],
   "source": [
    "a = recommend(d)\n",
    "print(a)"
   ]
  }
 ],
 "metadata": {
  "kernelspec": {
   "display_name": "Python 3 (ipykernel)",
   "language": "python",
   "name": "python3"
  },
  "language_info": {
   "codemirror_mode": {
    "name": "ipython",
    "version": 3
   },
   "file_extension": ".py",
   "mimetype": "text/x-python",
   "name": "python",
   "nbconvert_exporter": "python",
   "pygments_lexer": "ipython3",
   "version": "3.9.13"
  }
 },
 "nbformat": 4,
 "nbformat_minor": 5
}
